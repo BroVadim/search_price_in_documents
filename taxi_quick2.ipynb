{
 "cells": [
  {
   "cell_type": "code",
   "execution_count": null,
   "id": "damaged-satisfaction",
   "metadata": {},
   "outputs": [],
   "source": [
    "import os\n",
    "import pandas as pd\n",
    "import re\n",
    "import copy\n",
    "\n",
    "def search_files(directory):\n",
    "    \"\"\"Ищет все файлы внутри директории\n",
    "    input: строка (начальная директория)\n",
    "    output: список (все файлы, содержащиеся в данной директории)\n",
    "    \"\"\"\n",
    "\n",
    "    return [os.path.join(dp, f) for dp,dn,filenames in os.walk(directory) for f in filenames]\n",
    "\n",
    "def files_filter(files, extension):\n",
    "    \"\"\"Фильтрует файлы согласно их разрешения\n",
    "    input: список (файлы для фильтрации), строка - расширение файла\n",
    "    output: список (отфильтрованные согласно требуемого расширения файлы)\n",
    "    \"\"\"\n",
    "\n",
    "    return [file_ for file_ in files if file_.lower().endswith(extension)]\n",
    "\n",
    "def clean_df(string):\n",
    "    return re.sub(r'\\n',' ',string)\n",
    "\n",
    "def excel_to_csv(excel_files_list):\n",
    "    \"\"\"Преобразовывает excel-файлы в csv-файлы (с ними удобней в дальнейшем вести работу)\n",
    "    input: список (excel-файлы, которые необходимо преобразовать)\n",
    "    \"\"\"\n",
    "\n",
    "    for excel_file in excel_files_list:\n",
    "        try:\n",
    "            xlsx = pd.ExcelFile(excel_file)\n",
    "            res_sheets = filter(lambda x: x!='Worksheet',xlsx.sheet_names)\n",
    "            for sheet in res_sheets:\n",
    "                try:\n",
    "                    df = pd.read_excel(xlsx, sheet)\n",
    "                    columns_names = df.columns.tolist()\n",
    "                    for column in columns_names:\n",
    "                        df[column] = df[column].astype(str)\n",
    "                        df[column] = df[column].apply(clean_df)\n",
    "                    res_csv_file = '.'.join(excel_file.split('.')[:-1])+str(sheet)+'.csv'#\n",
    "                    df.to_csv(res_csv_file, sep=';', encoding = 'utf-8')\n",
    "                    print(\"ready\"+str(res_csv_file))\n",
    "                except Exception as error:\n",
    "                    print(\"Error2:{0}\\nFile:{1}\".format(str(error),str(excel_file)))\n",
    "                    continue\n",
    "        except Exception as error:\n",
    "            print(\"Error1:{0}\\nFile:{1}\".format(str(error),str(excel_file)))\n",
    "            continue          \n",
    "\n",
    "def prepare_csv(csv_files):\n",
    "    \"\"\"Чистит csv-файлы до строк заголовков\n",
    "    input: список (csv-файлы, для которых необходимо произвести очистку)\n",
    "    \"\"\"\n",
    "    csv_vocab = {}\n",
    "    for csv_file in csv_files:\n",
    "        try:\n",
    "            text = \"\"\n",
    "            with open(csv_file, 'r', encoding='utf-8') as file_1:\n",
    "                text = file_1.read()\n",
    "                lines = text.split('\\n')\n",
    "                for i,line in enumerate(lines):\n",
    "                    if 'стоимост' in line.lower() or 'итог' in line.lower() or 'сумм' in line.lower():\n",
    "                        text = '\\n'.join(lines[i:])\n",
    "                        break\n",
    "            with open(csv_file, 'w', encoding='utf-8') as file_2:\n",
    "                file_2.write(text)\n",
    "            csv_vocab[csv_file] = text    \n",
    "        except:\n",
    "            continue\n",
    "    return csv_vocab\n",
    "\n",
    "def search_ids(df, column_number):\n",
    "    \"\"\"Формирование датафрейма исходя из НЖЯ\n",
    "    input: датафрейм, номер колонки с НЖЯ\n",
    "    output: отфильтрованный датафрейм\n",
    "    \"\"\"\n",
    "\n",
    "    col_names = df.columns.tolist()\n",
    "    res_df = df[df[col_names[column_number-1]].notnull()]\n",
    "    return res_df"
   ]
  },
  {
   "cell_type": "markdown",
   "id": "signed-night",
   "metadata": {},
   "source": [
    "Следующая ячейка запускается только один раз (первый запуск) и преобразовывает excel-файлы к формату csv"
   ]
  },
  {
   "cell_type": "code",
   "execution_count": null,
   "id": "hourly-template",
   "metadata": {},
   "outputs": [],
   "source": [
    "all_files = search_files(directory) # нашли все файлы внутри папки\n",
    "xlsx_files = files_filter(all_files,'xlsx') # нашли файлы с расширением xlsx\n",
    "xls_files = files_filter(all_files,'xls') # нашли файлы с расширением xls\n",
    "all_excel_files = xlsx_files+xls_files # объединили списки в один\n",
    "excel_to_csv(all_excel_files) # преобразовали все excel-файлы в csv"
   ]
  },
  {
   "cell_type": "code",
   "execution_count": null,
   "id": "ahead-oasis",
   "metadata": {},
   "outputs": [],
   "source": [
    "nzyas_frame = pd.read_excel('NZYA_QUICK.xlsx') #загрузка файла с НЖЯ"
   ]
  },
  {
   "cell_type": "code",
   "execution_count": null,
   "id": "friendly-gospel",
   "metadata": {},
   "outputs": [],
   "source": [
    "# выбор директории с файлами для обработки\n",
    "directory = \"csv\""
   ]
  },
  {
   "cell_type": "code",
   "execution_count": null,
   "id": "first-grenada",
   "metadata": {},
   "outputs": [],
   "source": [
    "csv_files =  files_filter(search_files(directory), 'csv') #выбрать только csv-файлы"
   ]
  },
  {
   "cell_type": "code",
   "execution_count": null,
   "id": "ethical-negotiation",
   "metadata": {},
   "outputs": [],
   "source": [
    "vocab = prepare_csv(csv_files) #формируем словарь текстовых значений для каждого файла"
   ]
  },
  {
   "cell_type": "code",
   "execution_count": null,
   "id": "interior-arizona",
   "metadata": {},
   "outputs": [],
   "source": [
    "\"\"\"\n",
    "Поиск sd или id с помощью регулярного выражения (чтобы исключить совпадения подстроки)\n",
    "\"\"\"\n",
    "\n",
    "def search_id_qw(sd, line): \n",
    "    status  =False\n",
    "    if sd==\"nan\":\n",
    "        return status\n",
    "    if len(re.findall(r';\\s*(sd|)\\s*'+str(sd)+'\\s*;',line))>0:\n",
    "        status =True\n",
    "    return status"
   ]
  },
  {
   "cell_type": "code",
   "execution_count": null,
   "id": "statistical-taxation",
   "metadata": {},
   "outputs": [],
   "source": [
    "nzya_frame = search_ids(nzyas_frame, 3).iloc[:,:] #выбираем интервал из нашего файла для проверки"
   ]
  },
  {
   "cell_type": "code",
   "execution_count": null,
   "id": "leading-sphere",
   "metadata": {},
   "outputs": [],
   "source": [
    "nzya_frame.head() # просмотр выгруженного файла с НЖЯ"
   ]
  },
  {
   "cell_type": "code",
   "execution_count": null,
   "id": "educated-background",
   "metadata": {},
   "outputs": [],
   "source": [
    "\"\"\"\n",
    "Очищает строки от буквенных значений (в дальнейшем ускоряет процесс поиска с помощью регулярного выражения)\n",
    "input: строка для преобразования\n",
    "output: очищенная от буквенных значений строка\n",
    "\"\"\"\n",
    "\n",
    "def clean_text(string):\n",
    "    clean_string = re.sub(r'[a-zа-я]','',string)\n",
    "    return clean_string"
   ]
  },
  {
   "cell_type": "code",
   "execution_count": null,
   "id": "rubber-aurora",
   "metadata": {},
   "outputs": [],
   "source": [
    "vocab_keys = vocab.keys()\n",
    "new_vocab = {key: vocab[key].lower().split('\\n') for key in vocab_keys}\n",
    "clean_vocab = {key: clean_text(vocab[key].lower()).split('\\n') for key in vocab_keys}\n",
    "print(\"Ready\")\n",
    "first_sd_file_name = 'nzya_quick2.csv' # название первого файла, куда будут писаться строки заголовка и подтянутые sd id\n",
    "files_paths_file_name = 'nzya_quick2_files.csv' # название второго файла, куда будет писаться информация по найденным sd (расположение файла,sd,id)\n",
    "clean_vocab_copy = copy.copy(clean_vocab)\n",
    "with open (first_sd_file_name,'w', encoding='utf-8') as file1, open(files_paths_file_name,'w',encoding='utf-8') as file2:\n",
    "    for index,row in nzya_frame.iterrows():\n",
    "        col_1 = str(row[0])#[2:] # срез строки\n",
    "        col_2 = str(row[1])\n",
    "        for key in vocab_keys:\n",
    "            status = 0\n",
    "            for i, line in enumerate(clean_vocab[key]):\n",
    "                if search_id_qw(col_1,line) or search_id_qw(col_2,line):\n",
    "                    fl = new_vocab[key][0]\n",
    "                    file1.write('{0}\\n{1}\\n|\\n'.format(fl,line))\n",
    "                    print('{0}:{1}\\n{2}\\n{3}\\n\\n'.format(col_1,col_2,fl,str(line)))\n",
    "                    file2.write('{0};{1};{2}\\n'.format(key,col_1,col_2))\n",
    "                    clean_vocab_copy[key].remove(line)\n",
    "                    status = 1\n",
    "                    break\n",
    "            clean_vocab = copy.copy(clean_vocab_copy)\n",
    "            if status==1:\n",
    "                break"
   ]
  },
  {
   "cell_type": "code",
   "execution_count": null,
   "id": "clinical-provider",
   "metadata": {},
   "outputs": [],
   "source": []
  }
 ],
 "metadata": {
  "kernelspec": {
   "display_name": "Python 3",
   "language": "python",
   "name": "python3"
  },
  "language_info": {
   "codemirror_mode": {
    "name": "ipython",
    "version": 3
   },
   "file_extension": ".py",
   "mimetype": "text/x-python",
   "name": "python",
   "nbconvert_exporter": "python",
   "pygments_lexer": "ipython3",
   "version": "3.6.1"
  }
 },
 "nbformat": 4,
 "nbformat_minor": 5
}