{
 "cells": [
  {
   "cell_type": "code",
   "execution_count": null,
   "metadata": {},
   "outputs": [],
   "source": [
    "import os\n",
    "import re\n",
    "import pandas as pd\n",
    "import copy"
   ]
  },
  {
   "cell_type": "code",
   "execution_count": null,
   "metadata": {},
   "outputs": [],
   "source": [
    "\"\"\"\n",
    "Чтение файла и разбивка на список строк\n",
    "input: расположение файла\n",
    "output: список строк файла\n",
    "\"\"\"\n",
    "\n",
    "def read_file(file_directory):\n",
    "    with open(file_directory, 'r', encoding='utf-8') as file:\n",
    "        res_text_list = file.read().split('\\n|\\n')\n",
    "        return res_text_list"
   ]
  },
  {
   "cell_type": "code",
   "execution_count": null,
   "metadata": {},
   "outputs": [],
   "source": [
    "\"\"\"\n",
    "Проверка ячейки строки на предмет наличия тегов, указывающих на стоимость\n",
    "input: ячейка строки для проверки\n",
    "output: статус проверки (True - содержит указание на стоимость, False - нет)\n",
    "\"\"\"\n",
    "\n",
    "def isPriceName(element):\n",
    "    status = False\n",
    "    if 'стоимост' in element.lower() or 'итог' in element.lower() or 'сумм' in element.lower():\n",
    "        status = True\n",
    "    return status"
   ]
  },
  {
   "cell_type": "code",
   "execution_count": null,
   "metadata": {},
   "outputs": [],
   "source": [
    "\"\"\"\n",
    "Поиск пар значений \"заголовок - строка с sd или id\"\n",
    "input:текст из csv-файла, номер sd, номер id\n",
    "output: результирующая строка\n",
    "\"\"\"\n",
    "\n",
    "def search_price(element, sd, qw):\n",
    "    indexies = []\n",
    "    lines = element.split('\\n')\n",
    "    first_line = lines[0]\n",
    "    second_line = lines[1]\n",
    "    splited_first_line = first_line.split(';')\n",
    "    splited_second_line = second_line.split(';')\n",
    "    fl,sl = [],[]\n",
    "    for index, fl_el in enumerate(splited_first_line):\n",
    "        if (isPriceName(fl_el)):\n",
    "            indexies.append(index)\n",
    "    print(indexies)\n",
    "    for i in indexies:\n",
    "        try:\n",
    "            fl.append(splited_first_line[i])\n",
    "            sl.append(splited_second_line[i])\n",
    "        except:\n",
    "            print(\"Error\")\n",
    "            continue\n",
    "    res_string='SD_{0};QW_{1};{2}\\n{3};{4};{5}\\n'.format(sd,qw,';'.join(fl),sd,qw,';'.join(sl))\n",
    "    print(res_string)\n",
    "    return res_string"
   ]
  },
  {
   "cell_type": "code",
   "execution_count": null,
   "metadata": {},
   "outputs": [],
   "source": [
    "\"\"\"\n",
    "Поиск в строке sd или id\n",
    "input:номер id или sd, строка в которой необходимо произвести поиск\n",
    "output: статус проверки строки (присутствует sd или id в строке)\n",
    "\"\"\"\n",
    "\n",
    "def search_id_qw(sd, line):\n",
    "    status = False\n",
    "    if sd==\"nan\":\n",
    "        return status\n",
    "    if len(re.findall(r';\\s*(sd|)'+str(sd)+'\\s*(;|)',line.lower()))>0:\n",
    "        status  =True\n",
    "    return status"
   ]
  },
  {
   "cell_type": "code",
   "execution_count": null,
   "metadata": {},
   "outputs": [],
   "source": [
    "list_elements = read_file('nzya2_z1p1.csv')\n",
    "df = pd.read_csv('nzya2_z1p1_files.csv',sep=';', encoding=\"utf-8\")\n",
    "copy_list_elements = copy.copy(list_elements)"
   ]
  },
  {
   "cell_type": "code",
   "execution_count": null,
   "metadata": {},
   "outputs": [],
   "source": [
    "df.head()"
   ]
  },
  {
   "cell_type": "code",
   "execution_count": null,
   "metadata": {},
   "outputs": [],
   "source": [
    "with open('price.csv','w') as file:\n",
    "    for index,row in df.iterrows():\n",
    "        for i,element in enumerate(list_elements):\n",
    "            first_col_val = str(row[1])\n",
    "            sec_col_val = str(row[2])[:-2] # срез строки (если начинается с sd...)\n",
    "            if 'nan' in sec_col_val:\n",
    "                sec_col_val=\"1253463745687676532574p\"\n",
    "            if search_id_qw(first_col_val,element) or search_id_qw(sec_col_val,element):\n",
    "                file.write(search_price(element,first_col_val,sec_col_val))\n",
    "                del copy_list_elements[i]\n",
    "                print(\"Gotcha\"+str(len(copy_list_elements)))\n",
    "                break\n",
    "        list_elements = copy.copy(copy_list_elements)"
   ]
  }
 ],
 "metadata": {
  "kernelspec": {
   "display_name": "Python 3",
   "language": "python",
   "name": "python3"
  },
  "language_info": {
   "codemirror_mode": {
    "name": "ipython",
    "version": 3
   },
   "file_extension": ".py",
   "mimetype": "text/x-python",
   "name": "python",
   "nbconvert_exporter": "python",
   "pygments_lexer": "ipython3",
   "version": "3.6.1"
  }
 },
 "nbformat": 4,
 "nbformat_minor": 2
}
